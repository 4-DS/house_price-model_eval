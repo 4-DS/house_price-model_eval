{
 "cells": [
  {
   "cell_type": "code",
   "execution_count": null,
   "id": "870a1090-f4ae-45a0-aa93-0960f5c6478d",
   "metadata": {
    "tags": []
   },
   "outputs": [],
   "source": [
    "%load_ext autoreload\n",
    "%autoreload 2"
   ]
  },
  {
   "cell_type": "code",
   "execution_count": null,
   "id": "453c78e8-6822-4123-bf9d-ed1ae9dd7bea",
   "metadata": {
    "tags": [
     "parameters"
    ]
   },
   "outputs": [],
   "source": [
    "# load pipeline and step parameters - do not edit\n",
    "from sinara.substep import get_pipeline_params, get_step_params\n",
    "pipeline_params = get_pipeline_params(pprint=True)\n",
    "step_params = get_step_params(pprint=True)"
   ]
  },
  {
   "cell_type": "code",
   "execution_count": null,
   "id": "740a4757-2dfd-404e-9c35-c97cbbcdf006",
   "metadata": {
    "tags": []
   },
   "outputs": [],
   "source": [
    "# specify substep parameters for interactive run\n",
    "# this cell will be replaced during job run with the parameters from json within params subfolder\n",
    "substep_params={\n",
    "}"
   ]
  },
  {
   "cell_type": "code",
   "execution_count": null,
   "id": "f3818420-6085-43ea-b97e-578742794e1e",
   "metadata": {
    "tags": []
   },
   "outputs": [],
   "source": [
    "# define substep interface\n",
    "from sinara.substep import NotebookSubstep, NotebookSubstepRunResult, ENV_NAME, PIPELINE_NAME, ZONE_NAME, STEP_NAME, RUN_ID, ENTITY_NAME, ENTITY_PATH, SUBSTEP_NAME\n",
    "\n",
    "substep = NotebookSubstep(pipeline_params, step_params, substep_params)\n",
    "\n",
    "substep.interface(\n",
    "   \n",
    "    inputs=[\n",
    "        {STEP_NAME: 'model_eval', ENTITY_NAME: 'reports_model_eval_ipynb'\n",
    "        #ENTITY_PATH: \"/data/home/jovyan/example_median_house_price/test/model_eval/*/reports_model_eval_ipynb\"\n",
    "        }\n",
    "        \n",
    "    ]\n",
    ")\n",
    "\n",
    "substep.print_interface_info()\n",
    "\n",
    "substep.exit_in_visualize_mode()"
   ]
  },
  {
   "cell_type": "code",
   "execution_count": null,
   "id": "6529da6f-54a6-4191-9b6b-43447d93b495",
   "metadata": {
    "tags": []
   },
   "outputs": [],
   "source": [
    "import re\n",
    "from os import path as osp"
   ]
  },
  {
   "cell_type": "code",
   "execution_count": null,
   "id": "55e950c3-3151-4daf-9b98-83d3aebe216d",
   "metadata": {
    "tags": []
   },
   "outputs": [],
   "source": [
    "# run spark\n",
    "from sinara.spark import SinaraSpark\n",
    "\n",
    "spark = SinaraSpark.run_session(0)\n",
    "SinaraSpark.ui_url()"
   ]
  },
  {
   "cell_type": "code",
   "execution_count": null,
   "id": "61e97fd5-62e1-44e0-a4d9-28c1c7467db0",
   "metadata": {
    "tags": []
   },
   "outputs": [],
   "source": [
    "# read inputs \n",
    "\n",
    "inputs = substep.inputs(step_name=\"model_eval\")\n",
    "\n",
    "#inputs.reports_model_eval_ipynb metrics.json\n",
    "\n",
    "all_metrics_path = re.sub(r'run-[-0-9]*', '*', inputs.reports_model_eval_ipynb)\n",
    "all_metrics_path = osp.join(all_metrics_path, 'metrics.json')\n",
    "print(all_metrics_path)\n",
    "\n",
    "metrics = spark.read.json(all_metrics_path)"
   ]
  },
  {
   "cell_type": "code",
   "execution_count": null,
   "id": "908a07f8-7198-44e7-9783-9ed423793cb5",
   "metadata": {
    "tags": []
   },
   "outputs": [],
   "source": [
    "metrics.printSchema()"
   ]
  },
  {
   "cell_type": "code",
   "execution_count": null,
   "id": "8eda08da-805f-45e5-a202-ad1eea37e1cd",
   "metadata": {
    "tags": []
   },
   "outputs": [],
   "source": [
    "df = metrics.select('experiment_name', 'eval_result.r2', 'eval_result.rmse', 'run_id', 'version.bento_service_version')"
   ]
  },
  {
   "cell_type": "code",
   "execution_count": null,
   "id": "4b9d463d-e801-4f4a-8b8b-0e0149f2f196",
   "metadata": {
    "tags": []
   },
   "outputs": [],
   "source": [
    "df.show()"
   ]
  },
  {
   "cell_type": "code",
   "execution_count": null,
   "id": "82ef2430-57f2-42f4-a435-f50e1edd2c0b",
   "metadata": {
    "tags": []
   },
   "outputs": [],
   "source": [
    "# stop spark\n",
    "SinaraSpark.stop_session()"
   ]
  },
  {
   "cell_type": "code",
   "execution_count": null,
   "id": "548f9639-e400-406d-a338-11af4cc5e554",
   "metadata": {},
   "outputs": [],
   "source": []
  }
 ],
 "metadata": {
  "kernelspec": {
   "display_name": "cv",
   "language": "python",
   "name": "cv"
  },
  "language_info": {
   "codemirror_mode": {
    "name": "ipython",
    "version": 3
   },
   "file_extension": ".py",
   "mimetype": "text/x-python",
   "name": "python",
   "nbconvert_exporter": "python",
   "pygments_lexer": "ipython3",
   "version": "3.9.10"
  }
 },
 "nbformat": 4,
 "nbformat_minor": 5
}
