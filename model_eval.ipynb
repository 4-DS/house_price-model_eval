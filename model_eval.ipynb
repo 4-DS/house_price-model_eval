{
 "cells": [
  {
   "cell_type": "code",
   "execution_count": null,
   "id": "870a1090-f4ae-45a0-aa93-0960f5c6478d",
   "metadata": {
    "tags": []
   },
   "outputs": [],
   "source": [
    "%load_ext autoreload\n",
    "%autoreload 2"
   ]
  },
  {
   "cell_type": "code",
   "execution_count": null,
   "id": "453c78e8-6822-4123-bf9d-ed1ae9dd7bea",
   "metadata": {
    "tags": [
     "params"
    ]
   },
   "outputs": [],
   "source": [
    "#2. specify parameters\n",
    "pipeline_params={\n",
    "}\n",
    "step_params={\n",
    "}\n",
    "substep_params={\n",
    "    \"rmse_threshold\": 15\n",
    "}"
   ]
  },
  {
   "cell_type": "code",
   "execution_count": null,
   "id": "f3818420-6085-43ea-b97e-578742794e1e",
   "metadata": {
    "tags": []
   },
   "outputs": [],
   "source": [
    "#3 define substep interface\n",
    "from sinara.substep import NotebookSubstep, NotebookSubstepRunResult, default_param_values, ENV_NAME, PIPELINE_NAME, ZONE_NAME, STEP_NAME, RUN_ID, ENTITY_NAME, ENTITY_PATH, SUBSTEP_NAME\n",
    "\n",
    "substep = NotebookSubstep(pipeline_params, step_params, substep_params, **default_param_values(\"params/step_params.json\"))\n",
    "\n",
    "substep.interface(\n",
    "   \n",
    "    inputs =\n",
    "    [\n",
    "        { STEP_NAME: \"data_prep\", ENTITY_NAME: \"df_X_test\" },\n",
    "        { STEP_NAME: \"data_prep\", ENTITY_NAME: \"df_Y_test\" },\n",
    "        { STEP_NAME: \"model_train\", ENTITY_NAME: \"bento_service\" },\n",
    "    ],\n",
    "    outputs = \n",
    "    [\n",
    "    ]\n",
    ")\n",
    "\n",
    "substep.print_interface_info()\n",
    "\n",
    "substep.exit_in_visualize_mode()"
   ]
  },
  {
   "cell_type": "code",
   "execution_count": null,
   "id": "55e950c3-3151-4daf-9b98-83d3aebe216d",
   "metadata": {
    "tags": []
   },
   "outputs": [],
   "source": [
    "#4 run spark\n",
    "from sinara.spark import SinaraSpark\n",
    "\n",
    "spark = SinaraSpark.run_session(0)\n",
    "SinaraSpark.ui_url()"
   ]
  },
  {
   "cell_type": "code",
   "execution_count": null,
   "id": "70b2d9b3-051c-424c-beec-9da8f177b4ed",
   "metadata": {
    "tags": []
   },
   "outputs": [],
   "source": [
    "#5 read inputs \n",
    "prev_step_inputs = substep.inputs(step_name=\"data_prep\")\n",
    "bento_step_inputs = substep.inputs(step_name=\"model_train\")\n",
    "\n",
    "df_X_test = spark.read.parquet(prev_step_inputs.df_X_test).to_pandas_on_spark()\n",
    "df_Y_test = spark.read.parquet(prev_step_inputs.df_Y_test).to_pandas_on_spark()"
   ]
  },
  {
   "cell_type": "code",
   "execution_count": null,
   "id": "04f8c516-079f-4473-8564-1cf66344872c",
   "metadata": {
    "tags": []
   },
   "outputs": [],
   "source": [
    "#6 load a bentoservice\n",
    "from sinara.bentoml import load_bentoservice\n",
    "from sklearn.metrics import mean_squared_error\n",
    "bento_serv = load_bentoservice(bento_step_inputs.bento_service)"
   ]
  },
  {
   "cell_type": "code",
   "execution_count": null,
   "id": "ae7abe0a-bdba-4d76-9543-e1412419d144",
   "metadata": {},
   "outputs": [],
   "source": [
    "#7 evaluate model, check model quality on test dataset\n",
    "predictions = bento_serv.predict(df_X_test)\n",
    "rmse = mean_squared_error(df_Y_test.values, predictions, squared=False)\n",
    "print(\"The root mean squared error (RMSE) on test set: {:.4f}\".format(rmse))"
   ]
  },
  {
   "cell_type": "code",
   "execution_count": null,
   "id": "47c68c69-46d1-48d0-a239-fac8bf36c6fa",
   "metadata": {
    "tags": []
   },
   "outputs": [],
   "source": [
    "#8 check eval result\n",
    "rmse_threshold = substep_params[\"rmse_threshold\"]\n",
    "if rmse > rmse_threshold:\n",
    "    raise Exception(f'RMSE is {rmse}, more than acceptable value of {rmse_threshold}')"
   ]
  },
  {
   "cell_type": "code",
   "execution_count": null,
   "id": "82ef2430-57f2-42f4-a435-f50e1edd2c0b",
   "metadata": {
    "tags": []
   },
   "outputs": [],
   "source": [
    "#8 stop spark\n",
    "SinaraSpark.stop_session()"
   ]
  },
  {
   "cell_type": "code",
   "execution_count": null,
   "id": "3086c3aa-991a-4c5a-96c2-d341f1b2b4ec",
   "metadata": {},
   "outputs": [],
   "source": []
  }
 ],
 "metadata": {
  "kernelspec": {
   "display_name": "boosting",
   "language": "python",
   "name": "boosting"
  },
  "language_info": {
   "codemirror_mode": {
    "name": "ipython",
    "version": 3
   },
   "file_extension": ".py",
   "mimetype": "text/x-python",
   "name": "python",
   "nbconvert_exporter": "python",
   "pygments_lexer": "ipython3",
   "version": "3.9.10"
  }
 },
 "nbformat": 4,
 "nbformat_minor": 5
}
