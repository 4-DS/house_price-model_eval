{
 "cells": [
  {
   "cell_type": "code",
   "execution_count": null,
   "id": "870a1090-f4ae-45a0-aa93-0960f5c6478d",
   "metadata": {
    "tags": []
   },
   "outputs": [],
   "source": [
    "%load_ext autoreload\n",
    "%autoreload 2"
   ]
  },
  {
   "cell_type": "code",
   "execution_count": null,
   "id": "453c78e8-6822-4123-bf9d-ed1ae9dd7bea",
   "metadata": {
    "tags": [
     "parameters"
    ]
   },
   "outputs": [],
   "source": [
    "# specify substep parameters for interactive run\n",
    "# this cell will be replaced during job run with the parameters from json within params subfolder\n",
    "substep_params={   \n",
    "    \"rmse_threshold\": 15\n",
    "}"
   ]
  },
  {
   "cell_type": "code",
   "execution_count": null,
   "id": "c54e7f77-8af3-4609-b0c2-9d45fc3ba19f",
   "metadata": {},
   "outputs": [],
   "source": [
    "# load pipeline and step parameters - do not edit\n",
    "from sinara.substep import get_pipeline_params, get_step_params\n",
    "pipeline_params = get_pipeline_params(pprint=True)\n",
    "step_params = get_step_params(pprint=True)"
   ]
  },
  {
   "cell_type": "code",
   "execution_count": null,
   "id": "f3818420-6085-43ea-b97e-578742794e1e",
   "metadata": {
    "tags": []
   },
   "outputs": [],
   "source": [
    "#3 define substep interface\n",
    "from sinara.substep import NotebookSubstep, NotebookSubstepRunResult, ENV_NAME, PIPELINE_NAME, ZONE_NAME, STEP_NAME, RUN_ID, ENTITY_NAME, ENTITY_PATH, SUBSTEP_NAME\n",
    "\n",
    "substep = NotebookSubstep(pipeline_params, step_params, substep_params)\n",
    "\n",
    "substep.interface(\n",
    "   \n",
    "    inputs =\n",
    "    [\n",
    "        { STEP_NAME: \"model_train\", ENTITY_NAME: \"bento_service\" },\n",
    "    ],\n",
    "    outputs = \n",
    "    [\n",
    "    ]\n",
    ")\n",
    "\n",
    "substep.print_interface_info()\n",
    "\n",
    "substep.exit_in_visualize_mode()"
   ]
  },
  {
   "cell_type": "code",
   "execution_count": null,
   "id": "55e950c3-3151-4daf-9b98-83d3aebe216d",
   "metadata": {
    "tags": []
   },
   "outputs": [],
   "source": [
    "# run spark\n",
    "from sinara.spark import SinaraSpark\n",
    "\n",
    "spark = SinaraSpark.run_session(0)\n",
    "SinaraSpark.ui_url()"
   ]
  },
  {
   "cell_type": "code",
   "execution_count": null,
   "id": "bb369712-7de9-4d38-b2f4-568931a63565",
   "metadata": {},
   "outputs": [],
   "source": [
    "substep.add_metric('experiment_name', 'evaluation_metrics_example')"
   ]
  },
  {
   "cell_type": "code",
   "execution_count": null,
   "id": "70b2d9b3-051c-424c-beec-9da8f177b4ed",
   "metadata": {
    "tags": []
   },
   "outputs": [],
   "source": [
    "# read inputs \n",
    "bento_step_inputs = substep.inputs(step_name=\"model_train\")"
   ]
  },
  {
   "cell_type": "code",
   "execution_count": null,
   "id": "04f8c516-079f-4473-8564-1cf66344872c",
   "metadata": {
    "tags": []
   },
   "outputs": [],
   "source": [
    "# load a bentoservice\n",
    "from sinara.bentoml import load_bentoservice\n",
    "from sklearn.metrics import mean_squared_error, r2_score\n",
    "bento_serv = load_bentoservice(bento_step_inputs.bento_service)"
   ]
  },
  {
   "cell_type": "code",
   "execution_count": null,
   "id": "148126f7-35fb-43e2-af73-bf745d671b3c",
   "metadata": {},
   "outputs": [],
   "source": [
    "bento_service_version = bento_serv.service_version().split('.')[-1]\n",
    "substep.add_metric(\"version\", \n",
    "                   {'bento_service_version': bento_service_version})\n",
    "print(bento_service_version)"
   ]
  },
  {
   "cell_type": "code",
   "execution_count": null,
   "id": "ae7abe0a-bdba-4d76-9543-e1412419d144",
   "metadata": {},
   "outputs": [],
   "source": [
    "# evaluate model, check model quality on test dataset\n",
    "import pandas as pd\n",
    "test_data = bento_serv.test_data()\n",
    "predictions = bento_serv.predict(pd.DataFrame(test_data['X']))\n",
    "rmse = mean_squared_error(pd.DataFrame(test_data['Y']).values, predictions, squared=False)\n",
    "r2 = r2_score(pd.DataFrame(test_data['Y']).values, predictions)\n",
    "print(\"The root mean squared error (RMSE) on test set: {:.4f}\".format(rmse))"
   ]
  },
  {
   "cell_type": "code",
   "execution_count": null,
   "id": "06ac6076-34c1-4c80-830f-ce0b131043e6",
   "metadata": {},
   "outputs": [],
   "source": [
    "# add evaluation results to the step metrics\n",
    "substep.add_metric('eval_result', {'r2': r2,\n",
    "                              'rmse': rmse})"
   ]
  },
  {
   "cell_type": "code",
   "execution_count": null,
   "id": "47c68c69-46d1-48d0-a239-fac8bf36c6fa",
   "metadata": {
    "tags": []
   },
   "outputs": [],
   "source": [
    "# check eval result\n",
    "rmse_threshold = substep_params[\"rmse_threshold\"]\n",
    "if rmse > rmse_threshold:\n",
    "    raise Exception(f'RMSE is {rmse}, more than acceptable value of {rmse_threshold}')"
   ]
  },
  {
   "cell_type": "code",
   "execution_count": null,
   "id": "82ef2430-57f2-42f4-a435-f50e1edd2c0b",
   "metadata": {
    "tags": []
   },
   "outputs": [],
   "source": [
    "# stop spark\n",
    "SinaraSpark.stop_session()"
   ]
  },
  {
   "cell_type": "code",
   "execution_count": null,
   "id": "3086c3aa-991a-4c5a-96c2-d341f1b2b4ec",
   "metadata": {},
   "outputs": [],
   "source": []
  }
 ],
 "metadata": {
  "kernelspec": {
   "display_name": "cv",
   "language": "python",
   "name": "python3"
  },
  "language_info": {
   "codemirror_mode": {
    "name": "ipython",
    "version": 3
   },
   "file_extension": ".py",
   "mimetype": "text/x-python",
   "name": "python",
   "nbconvert_exporter": "python",
   "pygments_lexer": "ipython3",
   "version": "3.10.12"
  }
 },
 "nbformat": 4,
 "nbformat_minor": 5
}
